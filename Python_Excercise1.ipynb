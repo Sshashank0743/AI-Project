{
  "nbformat": 4,
  "nbformat_minor": 0,
  "metadata": {
    "colab": {
      "name": "Python Excercise1.ipynb",
      "provenance": [],
      "include_colab_link": true
    },
    "kernelspec": {
      "name": "python3",
      "display_name": "Python 3"
    }
  },
  "cells": [
    {
      "cell_type": "markdown",
      "metadata": {
        "id": "view-in-github",
        "colab_type": "text"
      },
      "source": [
        "<a href=\"https://colab.research.google.com/github/Sshashank0743/AI-Project/blob/master/Python_Excercise1.ipynb\" target=\"_parent\"><img src=\"https://colab.research.google.com/assets/colab-badge.svg\" alt=\"Open In Colab\"/></a>"
      ]
    },
    {
      "cell_type": "markdown",
      "metadata": {
        "id": "3sUjFmZ6RFuB",
        "colab_type": "text"
      },
      "source": [
        "## **1. Get the Python version**"
      ]
    },
    {
      "cell_type": "code",
      "metadata": {
        "id": "hdZCuIewQt22",
        "colab_type": "code",
        "outputId": "a79dadd2-a938-497c-d1c8-de7162ca898f",
        "colab": {
          "base_uri": "https://localhost:8080/",
          "height": 102
        }
      },
      "source": [
        "import sys\n",
        "print(\"Python version\")\n",
        "print (sys.version)\n",
        "print(\"Version info.\")\n",
        "print (sys.version_info)"
      ],
      "execution_count": 0,
      "outputs": [
        {
          "output_type": "stream",
          "text": [
            "Python version\n",
            "3.6.9 (default, Nov  7 2019, 10:44:02) \n",
            "[GCC 8.3.0]\n",
            "Version info.\n",
            "sys.version_info(major=3, minor=6, micro=9, releaselevel='final', serial=0)\n"
          ],
          "name": "stdout"
        }
      ]
    },
    {
      "cell_type": "markdown",
      "metadata": {
        "id": "cwLZL-dyRwQ6",
        "colab_type": "text"
      },
      "source": [
        "##**2. Display the current date and time**\n",
        "\n",
        "\n",
        "\n",
        "\n",
        "\n",
        "\n",
        "\n",
        "\n",
        "\n",
        "\n",
        "\n"
      ]
    },
    {
      "cell_type": "code",
      "metadata": {
        "id": "nisizNEcR4Ag",
        "colab_type": "code",
        "outputId": "7ea759e2-a3ad-478b-f7de-6da2da6bae50",
        "colab": {
          "base_uri": "https://localhost:8080/",
          "height": 51
        }
      },
      "source": [
        "import datetime\n",
        "now = datetime.datetime.now()\n",
        "print (\"current date and time : \")\n",
        "print (now.strftime(\"%Y-%m-%d %H:%M:%S\"))"
      ],
      "execution_count": 0,
      "outputs": [
        {
          "output_type": "stream",
          "text": [
            "current date and time : \n",
            "2019-12-07 12:23:39\n"
          ],
          "name": "stdout"
        }
      ]
    },
    {
      "cell_type": "markdown",
      "metadata": {
        "id": "9nEwuDmMUTPP",
        "colab_type": "text"
      },
      "source": [
        "## **3. Input the radius of a circle and compute the area**\n"
      ]
    },
    {
      "cell_type": "code",
      "metadata": {
        "id": "BqhhaLfTUT46",
        "colab_type": "code",
        "outputId": "76d6341b-9180-496a-bed4-303dabb508b7",
        "colab": {
          "base_uri": "https://localhost:8080/",
          "height": 51
        }
      },
      "source": [
        "from math import pi\n",
        "r = float(input (\"Input the radius of the circle : \"))\n",
        "print (\"the are of the circle with radius \" +str(r) + \" is: \" + str(pi * r**2))"
      ],
      "execution_count": 0,
      "outputs": [
        {
          "output_type": "stream",
          "text": [
            "Input the radius of the circle : 3.4\n",
            "the are of the circle with radius 3.4 is: 36.316811075498\n"
          ],
          "name": "stdout"
        }
      ]
    },
    {
      "cell_type": "markdown",
      "metadata": {
        "id": "AiYGrwKSWmzO",
        "colab_type": "text"
      },
      "source": [
        "## **4. Print first and last name in reverse order with a space between them**\n"
      ]
    },
    {
      "cell_type": "code",
      "metadata": {
        "id": "OG0Lfm-5XdLW",
        "colab_type": "code",
        "outputId": "e4060078-507d-4a33-bb91-6d7cedc90ecc",
        "colab": {
          "base_uri": "https://localhost:8080/",
          "height": 68
        }
      },
      "source": [
        "fname = input(\"Input your First Name : \")\n",
        "lname = input(\"Input your Last Name : \")\n",
        "print (\"Hello  \" + lname + \" \" + fname)"
      ],
      "execution_count": 0,
      "outputs": [
        {
          "output_type": "stream",
          "text": [
            "Input your First Name : shashank\n",
            "Input your Last Name : shukla\n",
            "Hello  shukla shashank\n"
          ],
          "name": "stdout"
        }
      ]
    },
    {
      "cell_type": "markdown",
      "metadata": {
        "id": "vK42QaQMb4W8",
        "colab_type": "text"
      },
      "source": [
        "## **5. Generate a list and tuple with comma-separated numbers**"
      ]
    },
    {
      "cell_type": "code",
      "metadata": {
        "id": "NsVJDzn7h8hq",
        "colab_type": "code",
        "outputId": "148a2bff-b6df-4685-e8f4-ae2f574a6296",
        "colab": {
          "base_uri": "https://localhost:8080/",
          "height": 68
        }
      },
      "source": [
        "values = input(\"Input some comma seprated numbers : \")\n",
        "X = values.split(\",\")\n",
        "Y = tuple(X)\n",
        "print('List : ',X)\n",
        "print('Tuple : ',Y)"
      ],
      "execution_count": 2,
      "outputs": [
        {
          "output_type": "stream",
          "text": [
            "Input some comma seprated numbers : 1,2,5,4,6\n",
            "List :  ['1', '2', '5', '4', '6']\n",
            "Tuple :  ('1', '2', '5', '4', '6')\n"
          ],
          "name": "stdout"
        }
      ]
    },
    {
      "cell_type": "markdown",
      "metadata": {
        "id": "FAcPvJ7qiMWp",
        "colab_type": "text"
      },
      "source": [
        "## **6. Input a filename and print the extension of that**"
      ]
    },
    {
      "cell_type": "code",
      "metadata": {
        "id": "kNQEZoeFirGf",
        "colab_type": "code",
        "colab": {
          "base_uri": "https://localhost:8080/",
          "height": 51
        },
        "outputId": "3aaa82bd-ec44-4030-f7c4-a7bc3f8abf8e"
      },
      "source": [
        "filename = input(\"Input the Filename: \")\n",
        "f_extns = filename.split(\".\")\n",
        "print (\"The extension of the file is : \" + repr(f_extns[-1]))"
      ],
      "execution_count": 3,
      "outputs": [
        {
          "output_type": "stream",
          "text": [
            "Input the Filename: Jack.sparrow\n",
            "The extension of the file is : 'sparrow'\n"
          ],
          "name": "stdout"
        }
      ]
    },
    {
      "cell_type": "markdown",
      "metadata": {
        "id": "HKYrxIJSksbE",
        "colab_type": "text"
      },
      "source": [
        ""
      ]
    }
  ]
}