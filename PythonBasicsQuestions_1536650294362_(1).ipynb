{
  "nbformat": 4,
  "nbformat_minor": 0,
  "metadata": {
    "kernelspec": {
      "display_name": "Python 3",
      "language": "python",
      "name": "python3"
    },
    "language_info": {
      "codemirror_mode": {
        "name": "ipython",
        "version": 3
      },
      "file_extension": ".py",
      "mimetype": "text/x-python",
      "name": "python",
      "nbconvert_exporter": "python",
      "pygments_lexer": "ipython3",
      "version": "3.6.9"
    },
    "colab": {
      "name": "PythonBasicsQuestions-1536650294362 (1).ipynb",
      "provenance": [],
      "include_colab_link": true
    }
  },
  "cells": [
    {
      "cell_type": "markdown",
      "metadata": {
        "id": "view-in-github",
        "colab_type": "text"
      },
      "source": [
        "<a href=\"https://colab.research.google.com/github/Sshashank0743/Hello-world/blob/master/PythonBasicsQuestions_1536650294362_(1).ipynb\" target=\"_parent\"><img src=\"https://colab.research.google.com/assets/colab-badge.svg\" alt=\"Open In Colab\"/></a>"
      ]
    },
    {
      "cell_type": "markdown",
      "metadata": {
        "id": "rroW3RK9uXNp",
        "colab_type": "text"
      },
      "source": [
        "# Python basics"
      ]
    },
    {
      "cell_type": "markdown",
      "metadata": {
        "collapsed": true,
        "id": "5YON7Gs-uXN2",
        "colab_type": "text"
      },
      "source": [
        "### 1.Write a Python program to print the following string\n",
        "\n",
        "Sample String: \"Welcome to INSAID- International School of AI and Data Science\"\n",
        "\n"
      ]
    },
    {
      "cell_type": "code",
      "metadata": {
        "id": "7DMXhufeuXN6",
        "colab_type": "code",
        "colab": {},
        "outputId": "f685ab97-b724-4e1e-9be1-25e14274c3d9"
      },
      "source": [
        "print(\"Welcome to INSAID- International School of AI and Data Science\")"
      ],
      "execution_count": 0,
      "outputs": [
        {
          "output_type": "stream",
          "text": [
            "Welcome to INSAID- International School of AI and Data Science\n"
          ],
          "name": "stdout"
        }
      ]
    },
    {
      "cell_type": "code",
      "metadata": {
        "id": "pe9D-pNhuXOK",
        "colab_type": "code",
        "colab": {},
        "outputId": "6581ecd3-1554-4958-f7ce-57357b154894"
      },
      "source": [
        "print(\"Welcome to my sweet loving dream project\")"
      ],
      "execution_count": 0,
      "outputs": [
        {
          "output_type": "stream",
          "text": [
            "Welcome to my sweet loving dream project\n"
          ],
          "name": "stdout"
        }
      ]
    },
    {
      "cell_type": "markdown",
      "metadata": {
        "id": "9b_4IqBQuXOU",
        "colab_type": "text"
      },
      "source": [
        "### 1.1 In a “Hello, World!” program, a comment may look like this:"
      ]
    },
    {
      "cell_type": "code",
      "metadata": {
        "id": "MsMZFObauXOX",
        "colab_type": "code",
        "colab": {},
        "outputId": "03f712c6-338c-4d1c-b958-97dc196b1443"
      },
      "source": [
        "print(\"Hello, World!\")      # Print “Hello, World!” to console\n"
      ],
      "execution_count": 0,
      "outputs": [
        {
          "output_type": "stream",
          "text": [
            "Hello, World!\n"
          ],
          "name": "stdout"
        }
      ]
    },
    {
      "cell_type": "code",
      "metadata": {
        "id": "gKOTEEesuXOk",
        "colab_type": "code",
        "colab": {},
        "outputId": "d31b1b44-d423-4e7f-c16c-1fdea8e6c911"
      },
      "source": [
        "print(\"Hello, world!\")"
      ],
      "execution_count": 0,
      "outputs": [
        {
          "output_type": "stream",
          "text": [
            "Hello, world!\n"
          ],
          "name": "stdout"
        }
      ]
    },
    {
      "cell_type": "code",
      "metadata": {
        "id": "AWyJdnm4uXOs",
        "colab_type": "code",
        "colab": {},
        "outputId": "12fd253f-2a52-42c2-eb20-f46053732dd0"
      },
      "source": [
        "# Define sharks variable as a list of strings ('hammer', 'white', 'fish', 'frilled', 'bullhead', 'requiem')\n",
        "list_sample = ('hammer', 'white', 'fish', 'frilled', 'bullhead', 'requiem')\n",
        "print(list_sample)\n",
        "print(list_sample[:3])\n",
        "print(list_sample[1:3])\n",
        "\n",
        "# For loop that iterates over sharks list and prints each string item\n",
        "for sample in list_sample:\n",
        "    print(sample)\n"
      ],
      "execution_count": 0,
      "outputs": [
        {
          "output_type": "stream",
          "text": [
            "('hammer', 'white', 'fish', 'frilled', 'bullhead', 'requiem')\n",
            "('hammer', 'white', 'fish')\n",
            "('white', 'fish')\n",
            "hammer\n",
            "white\n",
            "fish\n",
            "frilled\n",
            "bullhead\n",
            "requiem\n"
          ],
          "name": "stdout"
        }
      ]
    },
    {
      "cell_type": "code",
      "metadata": {
        "id": "l2Dv1n7GuXO1",
        "colab_type": "code",
        "colab": {},
        "outputId": "77ad67b8-60cd-4a0a-81e4-9678a09479a9"
      },
      "source": [
        "list_details = ('morning', 'routine', 'office', 'home', 'practice', 'sleep')\n",
        "\n",
        "\n",
        "for sample in list_details:\n",
        "    print(sample)"
      ],
      "execution_count": 0,
      "outputs": [
        {
          "output_type": "stream",
          "text": [
            "morning\n",
            "routine\n",
            "office\n",
            "home\n",
            "practice\n",
            "sleep\n"
          ],
          "name": "stdout"
        }
      ]
    },
    {
      "cell_type": "markdown",
      "metadata": {
        "id": "kBMngsSCuXO9",
        "colab_type": "text"
      },
      "source": [
        "2.Write a Python Program to Add Two Numbers"
      ]
    },
    {
      "cell_type": "code",
      "metadata": {
        "id": "URdulKb2uXPB",
        "colab_type": "code",
        "colab": {},
        "outputId": "4dc9b9c9-0784-4fbb-e441-36b18ec79c18"
      },
      "source": [
        "# initialise two varaibles\n",
        "a = 5\n",
        "b = 6\n",
        "# subtract two numbers\n",
        "subtract = b-a \n",
        "\n",
        "# Display the subtract\n",
        "print(\"the subtract of b and a is {}\" .format(subtract))\n"
      ],
      "execution_count": 0,
      "outputs": [
        {
          "output_type": "stream",
          "text": [
            "the subtract of b and a is 1\n"
          ],
          "name": "stdout"
        }
      ]
    },
    {
      "cell_type": "code",
      "metadata": {
        "id": "BQu-LzMkuXPI",
        "colab_type": "code",
        "colab": {},
        "outputId": "d2d1cfbb-4f9a-4862-fa04-b85916fc66e1"
      },
      "source": [
        "mysum = 2*8+9/3-5+6*9\n",
        "mysum"
      ],
      "execution_count": 0,
      "outputs": [
        {
          "output_type": "execute_result",
          "data": {
            "text/plain": [
              "68.0"
            ]
          },
          "metadata": {
            "tags": []
          },
          "execution_count": 7
        }
      ]
    },
    {
      "cell_type": "code",
      "metadata": {
        "id": "IDCG_CDauXPS",
        "colab_type": "code",
        "colab": {},
        "outputId": "b2a1f815-a8a9-4df4-f03c-f1e3c76dd02b"
      },
      "source": [
        "# initialise two varaibles\n",
        "a = 5\n",
        "b = 6\n",
        "# sum two numbers\n",
        "sum = b+a \n",
        "\n",
        "# Display the sum\n",
        "print(\"the sum of b and a is {}\" .format(sum))\n"
      ],
      "execution_count": 0,
      "outputs": [
        {
          "output_type": "stream",
          "text": [
            "the sum of b and a is 11\n"
          ],
          "name": "stdout"
        }
      ]
    },
    {
      "cell_type": "markdown",
      "metadata": {
        "id": "8Pi-iTV7uXPZ",
        "colab_type": "text"
      },
      "source": [
        "### 3.Write a Python Program to Find the product of two numbers"
      ]
    },
    {
      "cell_type": "code",
      "metadata": {
        "id": "Clk0GvaauXPb",
        "colab_type": "code",
        "colab": {},
        "outputId": "e5e4865d-cfe6-4808-eca1-dc49ecc64242"
      },
      "source": [
        "# initialise two varaibles\n",
        "a = 5\n",
        "b = 6\n",
        "# multiply two numbers\n",
        "c = a*b\n",
        "# Display the sum\n",
        "print(\"product of a and b is {}\" .format(c))\n"
      ],
      "execution_count": 0,
      "outputs": [
        {
          "output_type": "stream",
          "text": [
            "product of a and b is 30\n"
          ],
          "name": "stdout"
        }
      ]
    },
    {
      "cell_type": "markdown",
      "metadata": {
        "id": "v8HuLKmKuXPk",
        "colab_type": "text"
      },
      "source": [
        "### 4.Write a python program to find the area of triangle given height and base of the triangle as 3 and 10."
      ]
    },
    {
      "cell_type": "code",
      "metadata": {
        "id": "7PbENowpuXPm",
        "colab_type": "code",
        "colab": {},
        "outputId": "76de18df-34ae-432b-b0d9-c53f38923353"
      },
      "source": [
        "# Area of the triangle A= 1/2(base * height)\n",
        "\n",
        "#given height=3 and base =10\n",
        "h = 3;\n",
        "b = 10;\n",
        "\n",
        "area_of_triangle = 1/2 * (h*b);\n",
        "\n",
        "print(\"the product of a and b is {}\" .format(area_of_triangle))\n"
      ],
      "execution_count": 0,
      "outputs": [
        {
          "output_type": "stream",
          "text": [
            "the product of a and b is 15.0\n"
          ],
          "name": "stdout"
        }
      ]
    },
    {
      "cell_type": "markdown",
      "metadata": {
        "id": "3ssSIgCHuXPt",
        "colab_type": "text"
      },
      "source": [
        "## 5.Python Program to Swap Two Variables"
      ]
    },
    {
      "cell_type": "code",
      "metadata": {
        "id": "iod0mPapuXPv",
        "colab_type": "code",
        "colab": {},
        "outputId": "50f0435d-df99-4bca-8640-8eacfa21d926"
      },
      "source": [
        "# initialise two varaibles\n",
        "a = 5\n",
        "b = 8\n",
        "\n",
        "# create a temporary variable and swap the values\n",
        "temp = a\n",
        "a = b\n",
        "b = temp\n",
        "\n",
        "print('the value of x after swapping: {}' .format(a))\n",
        "print('the value of y after swapping: {}' .format(b))\n",
        "\n",
        "\n"
      ],
      "execution_count": 0,
      "outputs": [
        {
          "output_type": "stream",
          "text": [
            "the value of x after swapping: 8\n",
            "the value of y after swapping: 5\n"
          ],
          "name": "stdout"
        }
      ]
    },
    {
      "cell_type": "markdown",
      "metadata": {
        "id": "RzUv5XGuuXP3",
        "colab_type": "text"
      },
      "source": [
        "## Section"
      ]
    },
    {
      "cell_type": "markdown",
      "metadata": {
        "collapsed": true,
        "id": "gdRVf8d8uXQG",
        "colab_type": "text"
      },
      "source": [
        "### 1.Write a python program to print datatype of a varaible"
      ]
    },
    {
      "cell_type": "code",
      "metadata": {
        "id": "E3-nc1JsuXQJ",
        "colab_type": "code",
        "colab": {},
        "outputId": "42444508-f496-4003-ee64-3d5f66e7bd80"
      },
      "source": [
        "a = 1\n",
        "print(a, \"is of type\", type(a))\n",
        "b = 2.0\n",
        "print(a, \"is of type\", type(a))\n",
        "\n",
        "c = 1+2j\n",
        "print(a, \"is complex number\", isinstance(1+2j, complex))"
      ],
      "execution_count": 0,
      "outputs": [
        {
          "output_type": "stream",
          "text": [
            "1 is of type <class 'int'>\n",
            "1 is of type <class 'int'>\n",
            "1 is complex number True\n"
          ],
          "name": "stdout"
        }
      ]
    },
    {
      "cell_type": "markdown",
      "metadata": {
        "id": "Jk-oIr23uXQV",
        "colab_type": "text"
      },
      "source": [
        "### 2.Write a python program to extract an item or a range of items from a list.\n",
        "\n"
      ]
    },
    {
      "cell_type": "code",
      "metadata": {
        "id": "80JahOukuXQY",
        "colab_type": "code",
        "colab": {},
        "outputId": "f72f4791-6ceb-4dbe-cbf6-71668579b3ca"
      },
      "source": [
        "a = [15,20,35,40,45,30,35,60]\n",
        "\n",
        "print(a[2]) # Print the item at index 2\n",
        "\n",
        "print(a[0:3]) # Print the first 3 items\n",
        "\n",
        "print(a[-3:]) # Print the last 3 items\n",
        "\n",
        "print(a[0:-2]) # Start to third last item"
      ],
      "execution_count": 0,
      "outputs": [
        {
          "output_type": "stream",
          "text": [
            "35\n",
            "[15, 20, 35]\n",
            "[30, 35, 60]\n",
            "[15, 20, 35, 40, 45, 30]\n"
          ],
          "name": "stdout"
        }
      ]
    },
    {
      "cell_type": "code",
      "metadata": {
        "id": "w_5_NKSmuXQg",
        "colab_type": "code",
        "colab": {},
        "outputId": "bd4d339e-860e-440d-b05b-169859c727ae"
      },
      "source": [
        "a = [15,20,35,40,45,30,35,60]\n",
        "\n",
        "print(len(a))\n",
        "\n",
        "print(a[1:5:3])"
      ],
      "execution_count": 0,
      "outputs": [
        {
          "output_type": "stream",
          "text": [
            "8\n",
            "[20, 45]\n"
          ],
          "name": "stdout"
        }
      ]
    },
    {
      "cell_type": "markdown",
      "metadata": {
        "id": "PWVQC0VYuXQp",
        "colab_type": "text"
      },
      "source": [
        "### 3.Converting Floats to Integers\n"
      ]
    },
    {
      "cell_type": "code",
      "metadata": {
        "id": "nJQuZmibuXQt",
        "colab_type": "code",
        "colab": {},
        "outputId": "c829ab94-222b-49c8-8939-092664322b30"
      },
      "source": [
        "b = 125.0\n",
        "c = 390.8\n",
        "\n",
        "print(int(b)) # Print the Integer values\n",
        "print(int(c))"
      ],
      "execution_count": 0,
      "outputs": [
        {
          "output_type": "stream",
          "text": [
            "125\n",
            "390\n"
          ],
          "name": "stdout"
        }
      ]
    },
    {
      "cell_type": "markdown",
      "metadata": {
        "id": "JKzQIDAkuXQ1",
        "colab_type": "text"
      },
      "source": [
        "### 4.Converting Numbers to Strings"
      ]
    },
    {
      "cell_type": "code",
      "metadata": {
        "id": "I9gI7tp9uXQ4",
        "colab_type": "code",
        "colab": {},
        "outputId": "980bff34-52f9-4470-9522-cb6e5a79fc06"
      },
      "source": [
        "a = 10\n",
        "\n",
        "print(a, \"is of type\", type(a))\n",
        "\n",
        "b = str(a)\n",
        "print(b, \"is of type\", type(b))\n",
        "\n",
        "# Convert the value in a to a string and then print"
      ],
      "execution_count": 0,
      "outputs": [
        {
          "output_type": "stream",
          "text": [
            "10 is of type <class 'int'>\n",
            "10 is of type <class 'str'>\n"
          ],
          "name": "stdout"
        }
      ]
    },
    {
      "cell_type": "markdown",
      "metadata": {
        "id": "9vf9mHmOuXRG",
        "colab_type": "text"
      },
      "source": [
        "### 5.Converting Strings to Numbers"
      ]
    },
    {
      "cell_type": "code",
      "metadata": {
        "id": "0PsybTYluXRL",
        "colab_type": "code",
        "colab": {},
        "outputId": "b78b66ef-1d90-4646-8e5c-1c5352d3ad7c"
      },
      "source": [
        "a = \"50\"\n",
        "b = \"108\"\n",
        "\n",
        "lines_more = int(a) - int(b)\n",
        "\n",
        "print(lines_more)\n",
        "\n",
        "# Find the difference between a and b"
      ],
      "execution_count": 0,
      "outputs": [
        {
          "output_type": "stream",
          "text": [
            "-58\n"
          ],
          "name": "stdout"
        }
      ]
    },
    {
      "cell_type": "markdown",
      "metadata": {
        "id": "8I8Z1u-zuXRZ",
        "colab_type": "text"
      },
      "source": [
        "### 6.Converting list to Tuples"
      ]
    },
    {
      "cell_type": "code",
      "metadata": {
        "id": "zkPVsCaYuXRd",
        "colab_type": "code",
        "colab": {},
        "outputId": "3f650337-48c1-446a-d4aa-f1c0e57a3ca9"
      },
      "source": [
        "myList = ['request', 'source', 'repository', 'branch']\n",
        "\n",
        "print(tuple(['request', 'source', 'repository', 'branch']))\n",
        "\n",
        "# Print myList to a Tuple"
      ],
      "execution_count": 0,
      "outputs": [
        {
          "output_type": "stream",
          "text": [
            "('request', 'source', 'repository', 'branch')\n"
          ],
          "name": "stdout"
        }
      ]
    },
    {
      "cell_type": "markdown",
      "metadata": {
        "id": "YQPAHl63uXRj",
        "colab_type": "text"
      },
      "source": [
        "### 7.Converting tuple to Lists"
      ]
    },
    {
      "cell_type": "code",
      "metadata": {
        "id": "ejnjniVUuXRl",
        "colab_type": "code",
        "colab": {},
        "outputId": "f0f16841-d358-4701-8eca-940afebde080"
      },
      "source": [
        "myTuple = ('blue', 'red', 'white')\n",
        "\n",
        "print(list(('blue', 'red', 'white')))\n",
        "\n",
        "# Print myTuple to a List"
      ],
      "execution_count": 0,
      "outputs": [
        {
          "output_type": "stream",
          "text": [
            "['blue', 'red', 'white']\n"
          ],
          "name": "stdout"
        }
      ]
    },
    {
      "cell_type": "markdown",
      "metadata": {
        "collapsed": true,
        "id": "2F1WK3TTuXRs",
        "colab_type": "text"
      },
      "source": [
        "### 8.converting strings to lists:"
      ]
    },
    {
      "cell_type": "code",
      "metadata": {
        "id": "DIcU9lWBuXRv",
        "colab_type": "code",
        "colab": {},
        "outputId": "6073ef34-9aea-44a0-b7b1-0df9f35c697a"
      },
      "source": [
        "myString = 'INSAID'\n",
        "\n",
        "print(list('INSAID'))\n",
        "\n",
        "# Convert myString to List\n"
      ],
      "execution_count": 0,
      "outputs": [
        {
          "output_type": "stream",
          "text": [
            "['I', 'N', 'S', 'A', 'I', 'D']\n"
          ],
          "name": "stdout"
        }
      ]
    },
    {
      "cell_type": "markdown",
      "metadata": {
        "id": "D1t8BrhguXR0",
        "colab_type": "text"
      },
      "source": [
        "### 9.Assign different data types to a varibles"
      ]
    },
    {
      "cell_type": "code",
      "metadata": {
        "id": "tiX1Gj0muXR1",
        "colab_type": "code",
        "colab": {}
      },
      "source": [
        "my_string = 'Helol World'\n",
        "my_flt = 45.6\n",
        "my_bool = 5 > 9 #A boolean value will return either true or false\n",
        "my_list = ['item_1, item_2, item_3']\n",
        "my_tuple = ('item_1, item_2, item_3')\n",
        "my_dict = {'letter': 'g', 'number': '0', 'symbols': '&'} # Try string, float, boolean, list, tuple, dictionary"
      ],
      "execution_count": 0,
      "outputs": []
    },
    {
      "cell_type": "markdown",
      "metadata": {
        "id": "LF9SqFfPuXR7",
        "colab_type": "text"
      },
      "source": [
        "## Section"
      ]
    },
    {
      "cell_type": "markdown",
      "metadata": {
        "collapsed": true,
        "id": "ICJnmzdfuXR9",
        "colab_type": "text"
      },
      "source": [
        "### Print out a string that uses a formatter"
      ]
    },
    {
      "cell_type": "code",
      "metadata": {
        "id": "Ggar_z2TuXR_",
        "colab_type": "code",
        "colab": {},
        "outputId": "6a027b9b-b39e-4a32-ced3-b378b0c46cd3"
      },
      "source": [
        "print(\"John has {} cars\" .format(5)) # Print \"john has 5 cars.\" using formatter"
      ],
      "execution_count": 0,
      "outputs": [
        {
          "output_type": "stream",
          "text": [
            "John has 5 cars\n"
          ],
          "name": "stdout"
        }
      ]
    },
    {
      "cell_type": "markdown",
      "metadata": {
        "id": "J8PtPf6kuXSF",
        "colab_type": "text"
      },
      "source": [
        "### We can also assign a variable to be equal to the value of a string that has formatter placeholders:"
      ]
    },
    {
      "cell_type": "code",
      "metadata": {
        "id": "6nFXnsBFuXSH",
        "colab_type": "code",
        "colab": {},
        "outputId": "fd8bc398-cd72-40e8-eed5-c05d3a989604"
      },
      "source": [
        "open_string = \"john likes {}.\"\n",
        "\n",
        "print(open_string.format(\"open source\")) # Use format method to print the following output \"john likes open source.\"\n"
      ],
      "execution_count": 0,
      "outputs": [
        {
          "output_type": "stream",
          "text": [
            "john likes open source.\n"
          ],
          "name": "stdout"
        }
      ]
    },
    {
      "cell_type": "markdown",
      "metadata": {
        "id": "fVfG636ZuXSO",
        "colab_type": "text"
      },
      "source": [
        "### Using Formatters with Multiple Placeholders"
      ]
    },
    {
      "cell_type": "code",
      "metadata": {
        "id": "xQXQ23aLuXSQ",
        "colab_type": "code",
        "colab": {},
        "outputId": "e81d1fd5-20c5-4cd3-afdd-ac37a1b99e26"
      },
      "source": [
        "new_open_string = \"john likes {} {}.\"                      #2 {} placeholders\n",
        "print(new_open_string.format(\"open-source\", \"software\"))\n",
        "# Pass 2 strings into format method, separated by a comma to get output \"john likes open-source software.\""
      ],
      "execution_count": 0,
      "outputs": [
        {
          "output_type": "stream",
          "text": [
            "john likes open-source software.\n"
          ],
          "name": "stdout"
        }
      ]
    },
    {
      "cell_type": "code",
      "metadata": {
        "id": "qMiyYTCduXSY",
        "colab_type": "code",
        "colab": {},
        "outputId": "af650007-da2c-4d94-9ee5-5cb4aaa6dafd"
      },
      "source": [
        "sammy_string = \"john loves {} {}, and has {} {}.\"  \n",
        "print(sammy_string.format(\"open-source\", \"software\", \"5\",\"balloons\"))\n",
        "#4 {} placeholders\n",
        "# Pass 4 strings into method to get output \"john loves open-source software, and has 5 balloons.\""
      ],
      "execution_count": 0,
      "outputs": [
        {
          "output_type": "stream",
          "text": [
            "john loves open-source software, and has 5 balloons.\n"
          ],
          "name": "stdout"
        }
      ]
    },
    {
      "cell_type": "markdown",
      "metadata": {
        "id": "GncvqlCWuXSg",
        "colab_type": "text"
      },
      "source": [
        "### Reordering Formatters with Positional and Keyword Arguments\n"
      ]
    },
    {
      "cell_type": "code",
      "metadata": {
        "id": "vLfazDSvuXSh",
        "colab_type": "code",
        "colab": {},
        "outputId": "09ae741f-7b45-4fba-d1ea-1014ce777d60"
      },
      "source": [
        "# Reference sample\n",
        "print(\"john the {} has a pet {}!\".format(\"shark\", \"pilot fish\"))"
      ],
      "execution_count": 0,
      "outputs": [
        {
          "output_type": "stream",
          "text": [
            "john the shark has a pet pilot fish!\n"
          ],
          "name": "stdout"
        }
      ]
    },
    {
      "cell_type": "markdown",
      "metadata": {
        "id": "opwaT2mIuXSm",
        "colab_type": "text"
      },
      "source": [
        "### We can pass these index numbers into the curly braces that serve as the placeholders in the original string:"
      ]
    },
    {
      "cell_type": "code",
      "metadata": {
        "id": "8RewYL2tuXSo",
        "colab_type": "code",
        "colab": {},
        "outputId": "ed2f0c08-dfc0-4a2f-d5e3-085588db2caf"
      },
      "source": [
        "# Reference Sample\n",
        "print(\"john the {0} has a pet {1}!\".format(\"shark\", \"pilot fish\"))\n",
        "\n",
        "print(\"john is a {}, {}, and {} {}!\".format(\"happy\", \"smiling\", \"blue\", \"shark\"))\n"
      ],
      "execution_count": 0,
      "outputs": [
        {
          "output_type": "stream",
          "text": [
            "john the pilot fish has a pet shark!\n",
            "john is a happy, smiling, and blue shark!\n"
          ],
          "name": "stdout"
        }
      ]
    },
    {
      "cell_type": "code",
      "metadata": {
        "id": "z91GNXDduXSw",
        "colab_type": "code",
        "colab": {},
        "outputId": "288f1628-8a2f-43af-e731-13a7dad7a819"
      },
      "source": [
        "print(\"john the {1} has a pet {0}!\".format(\"shark\", \"pilot fish\"))"
      ],
      "execution_count": 0,
      "outputs": [
        {
          "output_type": "stream",
          "text": [
            "john the pilot fish has a pet shark!\n"
          ],
          "name": "stdout"
        }
      ]
    },
    {
      "cell_type": "markdown",
      "metadata": {
        "id": "Qnq618NDuXS0",
        "colab_type": "text"
      },
      "source": [
        "### Python Program to Get String Input from User\n"
      ]
    },
    {
      "cell_type": "code",
      "metadata": {
        "id": "Pr6aeVY3uXS2",
        "colab_type": "code",
        "colab": {},
        "outputId": "e69182f3-f61d-483a-864f-be53ed1ae453"
      },
      "source": [
        "#Enter any string and print it\n",
        "inputstring = (\"enter any string: hello\")\n",
        "print(inputstring)"
      ],
      "execution_count": 0,
      "outputs": [
        {
          "output_type": "stream",
          "text": [
            "enter any string: hello\n"
          ],
          "name": "stdout"
        }
      ]
    },
    {
      "cell_type": "markdown",
      "metadata": {
        "collapsed": true,
        "id": "5nKHwA41uXS7",
        "colab_type": "text"
      },
      "source": [
        "### Python program for conditional statements\n",
        "\n",
        "### 1)If the student receives over 65% on her test, report that her grade passes; if not, report that her grade fails"
      ]
    },
    {
      "cell_type": "code",
      "metadata": {
        "id": "IXubKVeiuXS-",
        "colab_type": "code",
        "colab": {},
        "outputId": "5f89b735-1292-48d6-b650-f12e0543948d"
      },
      "source": [
        "grade = 70\n",
        "\n",
        "if grade >=65:\n",
        "   print(\"passing grade\")"
      ],
      "execution_count": 0,
      "outputs": [
        {
          "output_type": "stream",
          "text": [
            "passing grade\n"
          ],
          "name": "stdout"
        }
      ]
    },
    {
      "cell_type": "code",
      "metadata": {
        "id": "19RoeA-nuXTD",
        "colab_type": "code",
        "colab": {},
        "outputId": "023bcc0d-5a08-4d0c-ba6a-fd7b3790af26"
      },
      "source": [
        "# Use only if\n",
        "grade = 60\n",
        "\n",
        "if grade >=65:\n",
        "   print(\"Passing grade\")\n",
        "\n",
        "else:\n",
        "   print(\"Falling grade\")"
      ],
      "execution_count": 0,
      "outputs": [
        {
          "output_type": "stream",
          "text": [
            "Falling grade\n"
          ],
          "name": "stdout"
        }
      ]
    },
    {
      "cell_type": "markdown",
      "metadata": {
        "id": "iTvFzfiIuXTH",
        "colab_type": "text"
      },
      "source": [
        "### Write a python program calculate whether a bank account balance is below 0 and print appropriate message."
      ]
    },
    {
      "cell_type": "code",
      "metadata": {
        "id": "lq0kw5FfuXTJ",
        "colab_type": "code",
        "colab": {},
        "outputId": "da1630c2-9d03-4386-a174-70393abc6ef8"
      },
      "source": [
        "# Use if else\n",
        "balance = 522\n",
        "\n",
        "if balance < 0:\n",
        "    print(\"Balance is below 0, add funds now or you will be charged a penalty.\")\n",
        "\n",
        "else:\n",
        "    print(\"Your balance is 0 or above.\")\n"
      ],
      "execution_count": 0,
      "outputs": [
        {
          "output_type": "stream",
          "text": [
            "Your balance is 0 or above.\n"
          ],
          "name": "stdout"
        }
      ]
    },
    {
      "cell_type": "code",
      "metadata": {
        "id": "-HXE57lAuXTP",
        "colab_type": "code",
        "colab": {},
        "outputId": "68b90168-3025-407a-a132-c5f9960d7c68"
      },
      "source": [
        "balance = 990\n",
        "\n",
        "if balance < 1000:\n",
        "    print(\"Balance is below 1000, add funds now or you will not receive interest.\")\n",
        "\n",
        "else:\n",
        "    print(\"Your balance is 1000 or above. you will receive interest\")"
      ],
      "execution_count": 0,
      "outputs": [
        {
          "output_type": "stream",
          "text": [
            "Balance is below 1000, add funds now or you will not receive interest.\n"
          ],
          "name": "stdout"
        }
      ]
    },
    {
      "cell_type": "markdown",
      "metadata": {
        "id": "FD3ojfyNuXTT",
        "colab_type": "text"
      },
      "source": [
        "### Using Else if statement"
      ]
    },
    {
      "cell_type": "code",
      "metadata": {
        "id": "JIfHxCyjuXTU",
        "colab_type": "code",
        "colab": {},
        "outputId": "03699184-7297-4658-afda-b3a7e34a599f"
      },
      "source": [
        "balance = 25\n",
        "\n",
        "if balance < 0:\n",
        "    print(\"Balance is below 0, add funds now or you will be charged a penalty.\")\n",
        "\n",
        "elif balance == 0:\n",
        "    print(\"Balance is equal to 0, add funds soon.\")\n",
        "\n",
        "else:\n",
        "    print(\"Your balance is 0 or above.\")\n"
      ],
      "execution_count": 0,
      "outputs": [
        {
          "output_type": "stream",
          "text": [
            "Your balance is 0 or above.\n"
          ],
          "name": "stdout"
        }
      ]
    },
    {
      "cell_type": "markdown",
      "metadata": {
        "id": "vemELDYauXTc",
        "colab_type": "text"
      },
      "source": [
        "### Python program to print  Fibonacci series between 0 to 50."
      ]
    },
    {
      "cell_type": "code",
      "metadata": {
        "id": "1ZRS-r6IuXTe",
        "colab_type": "code",
        "colab": {},
        "outputId": "65a5d1db-3d01-4ab5-8727-f029de8addfe"
      },
      "source": [
        "nterms = 50\n",
        "\n",
        "a = 0\n",
        "b = 1\n",
        "\n",
        "count = 0\n",
        "\n",
        "if nterms <= 0:\n",
        "   print(\"enter a positive integer\")    \n",
        "elif nterms == 1:\n",
        "   print(\"fibonacci sequence upto\",nterms,\":\")\n",
        "   print(n1)\n",
        "else:\n",
        "   print(\"fibonacci sequence upto\",nterms,\":\")\n",
        "   while count < nterms:\n",
        "       print(a,end=' , ')\n",
        "       nth = a + b\n",
        "       #update values\n",
        "       a = b\n",
        "       b = nth\n",
        "       count=count+1"
      ],
      "execution_count": 0,
      "outputs": [
        {
          "output_type": "stream",
          "text": [
            "fibonacci sequence upto 50 :\n",
            "0 , 1 , 1 , 2 , 3 , 5 , 8 , 13 , 21 , 34 , 55 , 89 , 144 , 233 , 377 , 610 , 987 , 1597 , 2584 , 4181 , 6765 , 10946 , 17711 , 28657 , 46368 , 75025 , 121393 , 196418 , 317811 , 514229 , 832040 , 1346269 , 2178309 , 3524578 , 5702887 , 9227465 , 14930352 , 24157817 , 39088169 , 63245986 , 102334155 , 165580141 , 267914296 , 433494437 , 701408733 , 1134903170 , 1836311903 , 2971215073 , 4807526976 , 7778742049 , "
          ],
          "name": "stdout"
        }
      ]
    },
    {
      "cell_type": "markdown",
      "metadata": {
        "id": "Px2IDTbauXTq",
        "colab_type": "text"
      },
      "source": [
        "### Python program to find numbers which are divisible by 7 and multiple of 5 between a range 150 to 270"
      ]
    },
    {
      "cell_type": "code",
      "metadata": {
        "id": "DXDQ0R-HuXTt",
        "colab_type": "code",
        "colab": {},
        "outputId": "189f3cda-e3eb-4084-f7de-113a644e4a15"
      },
      "source": [
        "for number in range(150,270):\n",
        "    if number %7 == 0 and number %5 == 0:\n",
        "        print(number)"
      ],
      "execution_count": 0,
      "outputs": [
        {
          "output_type": "stream",
          "text": [
            "175\n",
            "210\n",
            "245\n"
          ],
          "name": "stdout"
        }
      ]
    },
    {
      "cell_type": "code",
      "metadata": {
        "id": "TBhGgbq6uXTx",
        "colab_type": "code",
        "colab": {},
        "outputId": "10772904-fe9c-4d5d-9b7a-703d33bb90be"
      },
      "source": [
        "for number in range(70,210):\n",
        "    if number %2.5 == 0 and number %1.5 == 0:\n",
        "        print(number)"
      ],
      "execution_count": 0,
      "outputs": [
        {
          "output_type": "stream",
          "text": [
            "75\n",
            "90\n",
            "105\n",
            "120\n",
            "135\n",
            "150\n",
            "165\n",
            "180\n",
            "195\n"
          ],
          "name": "stdout"
        }
      ]
    },
    {
      "cell_type": "markdown",
      "metadata": {
        "id": "uaoOmdwAuXT3",
        "colab_type": "text"
      },
      "source": [
        "### Python program to Sum all the items in a list"
      ]
    },
    {
      "cell_type": "code",
      "metadata": {
        "id": "CoHhDwteuXT5",
        "colab_type": "code",
        "colab": {},
        "outputId": "a5639446-6484-4b5d-9896-ccd04fc4652e"
      },
      "source": [
        "def sum_list(items):\n",
        "    sum_numbers = 0 # Your code here\n",
        "    for x in items:\n",
        "        sum_numbers +=x\n",
        "    return sum_numbers # Your variable\n",
        "print(sum_list([20,12,20,22]))"
      ],
      "execution_count": 0,
      "outputs": [
        {
          "output_type": "stream",
          "text": [
            "74\n"
          ],
          "name": "stdout"
        }
      ]
    },
    {
      "cell_type": "markdown",
      "metadata": {
        "id": "H3rEuRqnuXT_",
        "colab_type": "text"
      },
      "source": [
        "### Python program to Remove duplicates from a list."
      ]
    },
    {
      "cell_type": "code",
      "metadata": {
        "id": "vk2abF1WuXUB",
        "colab_type": "code",
        "colab": {},
        "outputId": "7ce6315a-e9b6-4217-f429-b65ea8d9880f"
      },
      "source": [
        "a = [10,20,30,40,50,60,70,40,20,80,50,40]\n",
        " \n",
        "final_list = set()\n",
        "dup_list =  []\n",
        "for num in a: \n",
        "    if num not in final_list: \n",
        "        final_list.add(num) \n",
        "        dup_list.append(num)\n",
        "        \n",
        "print(final_list)\n"
      ],
      "execution_count": 0,
      "outputs": [
        {
          "output_type": "stream",
          "text": [
            "{70, 40, 10, 80, 50, 20, 60, 30}\n"
          ],
          "name": "stdout"
        }
      ]
    },
    {
      "cell_type": "markdown",
      "metadata": {
        "id": "_42YVaUouXUK",
        "colab_type": "text"
      },
      "source": [
        "### Python program to Get the largest number from a list."
      ]
    },
    {
      "cell_type": "code",
      "metadata": {
        "id": "gKx8t354uXUL",
        "colab_type": "code",
        "colab": {},
        "outputId": "28768d37-be80-4589-ebb5-b87999598b3a"
      },
      "source": [
        "def max_num_in_list( list ):\n",
        "    max = list[ 0 ]\n",
        "    for a in list:\n",
        "        if a > max:\n",
        "            max = a\n",
        "    return max\n",
        "print(max_num_in_list([1,12,28,0]))"
      ],
      "execution_count": 0,
      "outputs": [
        {
          "output_type": "stream",
          "text": [
            "28\n"
          ],
          "name": "stdout"
        }
      ]
    },
    {
      "cell_type": "markdown",
      "metadata": {
        "id": "Yyu6Nwi9uXUR",
        "colab_type": "text"
      },
      "source": [
        "### Concatenation of Tuples."
      ]
    },
    {
      "cell_type": "code",
      "metadata": {
        "id": "Ok4YN6ytuXUS",
        "colab_type": "code",
        "colab": {},
        "outputId": "5af179b6-eb98-4a97-ab6e-a0d70ba8fe52"
      },
      "source": [
        "# Code for concatenating 2 tuples\n",
        " \n",
        "tuple1 = (0, 1, 2, 3)\n",
        "tuple2 = ('python', 'code')\n",
        " \n",
        "# Concatenating above two\n",
        "print(tuple1 + tuple2)"
      ],
      "execution_count": 0,
      "outputs": [
        {
          "output_type": "stream",
          "text": [
            "(0, 1, 2, 3, 'python', 'code')\n"
          ],
          "name": "stdout"
        }
      ]
    },
    {
      "cell_type": "markdown",
      "metadata": {
        "id": "TrpEiAf1uXUX",
        "colab_type": "text"
      },
      "source": [
        "### Nesting of Tuples."
      ]
    },
    {
      "cell_type": "code",
      "metadata": {
        "id": "UUDcgH-GuXUY",
        "colab_type": "code",
        "colab": {},
        "outputId": "de78be9d-50e9-40d3-f9f7-fa6126339686"
      },
      "source": [
        "# Code for creating nested tuples\n",
        " \n",
        "tuple1 = (0, 1, 2, 3)\n",
        "tuple2 = ('python', 'code')\n",
        "tuple3 = (tuple1 + tuple2) # Your code goes here\n",
        "print(tuple3)\n"
      ],
      "execution_count": 0,
      "outputs": [
        {
          "output_type": "stream",
          "text": [
            "(0, 1, 2, 3, 'python', 'code')\n"
          ],
          "name": "stdout"
        }
      ]
    },
    {
      "cell_type": "markdown",
      "metadata": {
        "id": "IMXG0QQZuXUd",
        "colab_type": "text"
      },
      "source": [
        "### Write a Python program to add an item in a tuple."
      ]
    },
    {
      "cell_type": "code",
      "metadata": {
        "id": "_fmpVLvVuXUe",
        "colab_type": "code",
        "colab": {},
        "outputId": "d0ffb361-8c5b-4cb9-f7db-4bf0fb1e01ba"
      },
      "source": [
        "tuplex = (1,2,3,4,5,6) # Create a tuple & print\n",
        "print(tuplex)\n",
        "\n",
        "#tuples are immutable, so you can not add new elements\n",
        "#using merge of tuples with the + operator you can add an element and it will create a new tuple\n",
        "\n",
        "# Adding items in a specific index\n",
        "tuplex = tuplex[:6] + (10,15,20)\n",
        "print(tuplex)\n"
      ],
      "execution_count": 0,
      "outputs": [
        {
          "output_type": "stream",
          "text": [
            "(1, 2, 3, 4, 5, 6)\n",
            "(1, 2, 3, 4, 5, 6, 10, 15, 20)\n"
          ],
          "name": "stdout"
        }
      ]
    },
    {
      "cell_type": "markdown",
      "metadata": {
        "id": "6HNy_oM8uXUj",
        "colab_type": "text"
      },
      "source": [
        "### Write a Python program to remove an item from a tuple."
      ]
    },
    {
      "cell_type": "code",
      "metadata": {
        "id": "EdhXFz-3uXUl",
        "colab_type": "code",
        "colab": {},
        "outputId": "bc93354b-9b2d-413f-cb4a-8d7af6e66f8e"
      },
      "source": [
        "# Create a tuple and print it\n",
        "tuplex = 'I', 'N','D','I','A'\n",
        "listx = list(tuplex)\n",
        "# Find a way to remove an item of the tuple (Hint: Use other data types)\n",
        "listx.remove('I')\n",
        "tuplex = tuple(listx)\n",
        "print(tuplex)\n"
      ],
      "execution_count": 0,
      "outputs": [
        {
          "output_type": "stream",
          "text": [
            "('N', 'D', 'I', 'A')\n"
          ],
          "name": "stdout"
        }
      ]
    },
    {
      "cell_type": "markdown",
      "metadata": {
        "id": "TlJeSx-tuXUo",
        "colab_type": "text"
      },
      "source": [
        "### Python Program to Check if a given key already exists in a dictionary."
      ]
    },
    {
      "cell_type": "code",
      "metadata": {
        "id": "ybA8XJQ_uXUp",
        "colab_type": "code",
        "colab": {},
        "outputId": "e25f252e-7d61-44ca-82de-9fac27a33827"
      },
      "source": [
        "d = {1: 10, 2: 20, 3: 30, 4: 40, 5: 50, 6: 60}\n",
        "def is_key_present(x):\n",
        "  if x in d:\n",
        "    print('key is present in dictionary')\n",
        "  else:\n",
        "    print('key is not present in dictionary')\n",
        "is_key_present(5)\n",
        "is_key_present(9)"
      ],
      "execution_count": 0,
      "outputs": [
        {
          "output_type": "stream",
          "text": [
            "key is present in dictionary\n",
            "key is not present in dictionary\n"
          ],
          "name": "stdout"
        }
      ]
    },
    {
      "cell_type": "markdown",
      "metadata": {
        "id": "b985TzcRuXUt",
        "colab_type": "text"
      },
      "source": [
        "### Write a Python script to merge two Python dictionaries."
      ]
    },
    {
      "cell_type": "code",
      "metadata": {
        "id": "s6G9GthnuXUv",
        "colab_type": "code",
        "colab": {},
        "outputId": "7b8b03a7-2fd4-4bf0-fe5b-aa237fc59f4e"
      },
      "source": [
        "d1 = {'a': 100, 'b': 200}\n",
        "d2 = {'x': 300, 'y': 200}\n",
        "d = d1.copy()\n",
        "d.update(d2)\n",
        "print(d)"
      ],
      "execution_count": 0,
      "outputs": [
        {
          "output_type": "stream",
          "text": [
            "{'a': 100, 'b': 200, 'x': 300, 'y': 200}\n"
          ],
          "name": "stdout"
        }
      ]
    },
    {
      "cell_type": "markdown",
      "metadata": {
        "id": "-Pq2ElqBuXU9",
        "colab_type": "text"
      },
      "source": [
        "### Write a Python function to find the Max of three numbers."
      ]
    },
    {
      "cell_type": "code",
      "metadata": {
        "id": "z00ash_PuXU-",
        "colab_type": "code",
        "colab": {}
      },
      "source": [
        "def max_of_two( x, y ):\n",
        "    x = 10:\n",
        "    y = 15:\n",
        "    # Your code here\n",
        "    return # Your answer\n",
        "def max_of_three( x, y, z ):\n",
        "    # Your code here use max_of_two\n",
        "    return # Your answer\n",
        "print(max_of_three(13, 26, -5))"
      ],
      "execution_count": 0,
      "outputs": []
    },
    {
      "cell_type": "code",
      "metadata": {
        "id": "jDvjakTMuXVC",
        "colab_type": "code",
        "colab": {}
      },
      "source": [
        "def max_of_two( x, y ):\n",
        "    if x > y:\n",
        "        return x\n",
        "    return y\n",
        "def max_of_three( x, y, z ):\n",
        "    return max_of_two( x, max_of_two( y, z ) )\n",
        "print(max_of_three(13, 26, -5))"
      ],
      "execution_count": 0,
      "outputs": []
    },
    {
      "cell_type": "markdown",
      "metadata": {
        "collapsed": true,
        "id": "V8VUGCkUuXVH",
        "colab_type": "text"
      },
      "source": [
        "### Write a Python program to reverse a string."
      ]
    },
    {
      "cell_type": "code",
      "metadata": {
        "id": "MzNnMsVeuXVI",
        "colab_type": "code",
        "colab": {},
        "outputId": "5d78e131-8617-46a1-9218-441cfb324236"
      },
      "source": [
        "def string_reverse(str1):\n",
        "    \n",
        "    rstr1 = ''\n",
        "    index = len(str1)\n",
        "    while index > 0:\n",
        "        rstr1 += str1 [ index - 1]\n",
        "        index = index - 1\n",
        "    return rstr1\n",
        "print(string_reverse('EDU'))"
      ],
      "execution_count": 0,
      "outputs": [
        {
          "output_type": "stream",
          "text": [
            "UDE\n"
          ],
          "name": "stdout"
        }
      ]
    },
    {
      "cell_type": "markdown",
      "metadata": {
        "collapsed": true,
        "id": "pAZSDLY2uXVS",
        "colab_type": "text"
      },
      "source": [
        "### Write a Python function to calculate the factorial of a number "
      ]
    },
    {
      "cell_type": "code",
      "metadata": {
        "id": "7CMFyaqXuXVT",
        "colab_type": "code",
        "colab": {},
        "outputId": "d189d2f7-a6f0-4ae5-b8c6-ff3ed7e32d60"
      },
      "source": [
        "def factorial(n):\n",
        "    if n == 0:\n",
        "        return 1\n",
        "    else:\n",
        "        return n * factorial(n-1)\n",
        "n=int(input(\"Input a number to compute the factiorial : \"))\n",
        "print(factorial(n))"
      ],
      "execution_count": 0,
      "outputs": [
        {
          "output_type": "stream",
          "text": [
            "Input a number to compute the factiorial : 6\n",
            "720\n"
          ],
          "name": "stdout"
        }
      ]
    },
    {
      "cell_type": "markdown",
      "metadata": {
        "id": "mTrIhojkuXVY",
        "colab_type": "text"
      },
      "source": [
        "### Write a Python function to sum all the numbers in a list."
      ]
    },
    {
      "cell_type": "code",
      "metadata": {
        "id": "EHVLHqg5uXVa",
        "colab_type": "code",
        "colab": {},
        "outputId": "66c46442-3802-4770-9367-39e6184d7603"
      },
      "source": [
        "def sum(numbers):\n",
        "    total = 2\n",
        "    for x in numbers:\n",
        "        total += x\n",
        "    return total # Your answer \n",
        "print(sum((1,5,7,8,6)))"
      ],
      "execution_count": 0,
      "outputs": [
        {
          "output_type": "stream",
          "text": [
            "29\n"
          ],
          "name": "stdout"
        }
      ]
    },
    {
      "cell_type": "markdown",
      "metadata": {
        "collapsed": true,
        "id": "ra1IAvdbuXVf",
        "colab_type": "text"
      },
      "source": [
        "### Write a Python function to check whether a number is in a given range."
      ]
    },
    {
      "cell_type": "code",
      "metadata": {
        "id": "yf9NO0p0uXVh",
        "colab_type": "code",
        "colab": {},
        "outputId": "bfeba877-247d-48b5-ffb8-a1eae55bd223"
      },
      "source": [
        "def test_range(n):\n",
        "    if n in range(3,9):        # 3<=5 and 9>=5\n",
        "        print( \" %s is in the range\" % n)\n",
        "    else :\n",
        "        print(\"The number is outside the given range.\")\n",
        "test_range(8)"
      ],
      "execution_count": 0,
      "outputs": [
        {
          "output_type": "stream",
          "text": [
            " 8 is in the range\n"
          ],
          "name": "stdout"
        }
      ]
    },
    {
      "cell_type": "markdown",
      "metadata": {
        "id": "GZmpSMe4uXVq",
        "colab_type": "text"
      },
      "source": [
        "### Find the value of pi using math module."
      ]
    },
    {
      "cell_type": "code",
      "metadata": {
        "id": "qRkxnxNduXVs",
        "colab_type": "code",
        "colab": {},
        "outputId": "fb440cb6-fbe6-4cb2-ac0a-8080a731af4d"
      },
      "source": [
        "# import statement example\n",
        "# to import standard module math\n",
        "\n",
        "import math\n",
        "print(\"the value of pi is\", math.pi)"
      ],
      "execution_count": 0,
      "outputs": [
        {
          "output_type": "stream",
          "text": [
            "the value of pi is 3.141592653589793\n"
          ],
          "name": "stdout"
        }
      ]
    },
    {
      "cell_type": "markdown",
      "metadata": {
        "id": "fDZEYa5huXV4",
        "colab_type": "text"
      },
      "source": [
        "### Write a Python program to read an entire text file.\n",
        "\n",
        "### Content of text.txt.\n",
        "\n",
        "### What is Python language?      \n",
        "\n",
        "#### Python is a widely used high-level, general-purpose, interpreted, dynamic programming language."
      ]
    },
    {
      "cell_type": "code",
      "metadata": {
        "id": "jtOZ5obOuXV5",
        "colab_type": "code",
        "colab": {},
        "outputId": "258169c8-83fd-47ea-c412-8b0b97c1472b"
      },
      "source": [
        "def file_read(fname):\n",
        "     txt = open(fname)\n",
        "        print(txt.read())\n",
        "file_read('test.txt')"
      ],
      "execution_count": 0,
      "outputs": [
        {
          "output_type": "error",
          "ename": "IndentationError",
          "evalue": "unexpected indent (<ipython-input-34-f3ada50c23bb>, line 3)",
          "traceback": [
            "\u001b[1;36m  File \u001b[1;32m\"<ipython-input-34-f3ada50c23bb>\"\u001b[1;36m, line \u001b[1;32m3\u001b[0m\n\u001b[1;33m    print(txt.read())\u001b[0m\n\u001b[1;37m    ^\u001b[0m\n\u001b[1;31mIndentationError\u001b[0m\u001b[1;31m:\u001b[0m unexpected indent\n"
          ]
        }
      ]
    },
    {
      "cell_type": "markdown",
      "metadata": {
        "collapsed": true,
        "id": "gZceMFAEuXV8",
        "colab_type": "text"
      },
      "source": [
        "### Write a Python program to read a file line by line and store it into a list."
      ]
    },
    {
      "cell_type": "code",
      "metadata": {
        "id": "qRuMF3fRuXV9",
        "colab_type": "code",
        "colab": {},
        "outputId": "ad071128-3867-4d26-c930-be0af682e0f6"
      },
      "source": [
        "def file_read(fname):\n",
        "       with open(fname) as f:\n",
        "                #Content_list is the list that contains the read lines.     \n",
        "                content_list = f.readlines()\n",
        "                print(content_list)\n",
        "\n",
        "file_read('test.txt')"
      ],
      "execution_count": 0,
      "outputs": [
        {
          "output_type": "error",
          "ename": "FileNotFoundError",
          "evalue": "[Errno 2] No such file or directory: 'test.txt'",
          "traceback": [
            "\u001b[1;31m---------------------------------------------------------------------------\u001b[0m",
            "\u001b[1;31mFileNotFoundError\u001b[0m                         Traceback (most recent call last)",
            "\u001b[1;32m<ipython-input-35-d33617a9a981>\u001b[0m in \u001b[0;36m<module>\u001b[1;34m\u001b[0m\n\u001b[0;32m      5\u001b[0m                 \u001b[0mprint\u001b[0m\u001b[1;33m(\u001b[0m\u001b[0mcontent_list\u001b[0m\u001b[1;33m)\u001b[0m\u001b[1;33m\u001b[0m\u001b[1;33m\u001b[0m\u001b[0m\n\u001b[0;32m      6\u001b[0m \u001b[1;33m\u001b[0m\u001b[0m\n\u001b[1;32m----> 7\u001b[1;33m \u001b[0mfile_read\u001b[0m\u001b[1;33m(\u001b[0m\u001b[1;34m'test.txt'\u001b[0m\u001b[1;33m)\u001b[0m\u001b[1;33m\u001b[0m\u001b[1;33m\u001b[0m\u001b[0m\n\u001b[0m",
            "\u001b[1;32m<ipython-input-35-d33617a9a981>\u001b[0m in \u001b[0;36mfile_read\u001b[1;34m(fname)\u001b[0m\n\u001b[0;32m      1\u001b[0m \u001b[1;32mdef\u001b[0m \u001b[0mfile_read\u001b[0m\u001b[1;33m(\u001b[0m\u001b[0mfname\u001b[0m\u001b[1;33m)\u001b[0m\u001b[1;33m:\u001b[0m\u001b[1;33m\u001b[0m\u001b[1;33m\u001b[0m\u001b[0m\n\u001b[1;32m----> 2\u001b[1;33m        \u001b[1;32mwith\u001b[0m \u001b[0mopen\u001b[0m\u001b[1;33m(\u001b[0m\u001b[0mfname\u001b[0m\u001b[1;33m)\u001b[0m \u001b[1;32mas\u001b[0m \u001b[0mf\u001b[0m\u001b[1;33m:\u001b[0m\u001b[1;33m\u001b[0m\u001b[1;33m\u001b[0m\u001b[0m\n\u001b[0m\u001b[0;32m      3\u001b[0m                 \u001b[1;31m#Content_list is the list that contains the read lines.\u001b[0m\u001b[1;33m\u001b[0m\u001b[1;33m\u001b[0m\u001b[1;33m\u001b[0m\u001b[0m\n\u001b[0;32m      4\u001b[0m                 \u001b[0mcontent_list\u001b[0m \u001b[1;33m=\u001b[0m \u001b[0mf\u001b[0m\u001b[1;33m.\u001b[0m\u001b[0mreadlines\u001b[0m\u001b[1;33m(\u001b[0m\u001b[1;33m)\u001b[0m\u001b[1;33m\u001b[0m\u001b[1;33m\u001b[0m\u001b[0m\n\u001b[0;32m      5\u001b[0m                 \u001b[0mprint\u001b[0m\u001b[1;33m(\u001b[0m\u001b[0mcontent_list\u001b[0m\u001b[1;33m)\u001b[0m\u001b[1;33m\u001b[0m\u001b[1;33m\u001b[0m\u001b[0m\n",
            "\u001b[1;31mFileNotFoundError\u001b[0m: [Errno 2] No such file or directory: 'test.txt'"
          ]
        }
      ]
    },
    {
      "cell_type": "markdown",
      "metadata": {
        "id": "4i-japXiuXWB",
        "colab_type": "text"
      },
      "source": [
        "### A python program to create user-defined exception."
      ]
    },
    {
      "cell_type": "code",
      "metadata": {
        "id": "qK2Dci9iuXWC",
        "colab_type": "code",
        "colab": {},
        "outputId": "55f4fcf5-857c-4999-cdfe-1db0da8ef3c9"
      },
      "source": [
        "class MyError(Exception):\n",
        " \n",
        "    # Constructor or Initializer\n",
        "    def __init__(self, value):\n",
        "        self.value = value\n",
        " \n",
        "    # __str__ is to print() the value\n",
        "    def __str__(self):\n",
        "        return # Your code goes here to get -> 'A New Exception occured: 0.42857142857142855'\n",
        " \n",
        "try:\n",
        "    raise(MyError(3/7))\n",
        " \n",
        "except MyError as error:\n",
        "    print(error)\n"
      ],
      "execution_count": 0,
      "outputs": [
        {
          "output_type": "stream",
          "text": [
            "A New Exception occured: 0.42857142857142855\n"
          ],
          "name": "stdout"
        }
      ]
    },
    {
      "cell_type": "markdown",
      "metadata": {
        "id": "A_AYYGU1uXWH",
        "colab_type": "text"
      },
      "source": [
        "### Write a Python program to calculate the discriminant value. (b <sup>2</sup> - 4ac)"
      ]
    },
    {
      "cell_type": "code",
      "metadata": {
        "id": "uZeIps-fuXWI",
        "colab_type": "code",
        "colab": {},
        "outputId": "61e229d0-2ec5-4042-fa25-9b3a2b310f45"
      },
      "source": [
        "def discriminant():\n",
        "    a_value = float(input('The a value: '))\n",
        "    b_value = float(input('The b value: '))\n",
        "    c_value = float(input('The c value: '))\n",
        "    \n",
        "    # Calculate the discriminant here\n",
        "    \n",
        "    return # The value\n",
        "\n",
        "\n",
        "discriminant()\n"
      ],
      "execution_count": 0,
      "outputs": [
        {
          "output_type": "stream",
          "text": [
            "The a value: 11\n",
            "The b value: 111\n",
            "The c value: 111\n"
          ],
          "name": "stdout"
        }
      ]
    },
    {
      "cell_type": "code",
      "metadata": {
        "id": "TB5kFfffuXWM",
        "colab_type": "code",
        "colab": {},
        "outputId": "fb8a47a2-bd52-4c7a-a0e9-ee539f0857c8"
      },
      "source": [
        "print('Hello World')"
      ],
      "execution_count": 0,
      "outputs": [
        {
          "output_type": "stream",
          "text": [
            "Hello World\n"
          ],
          "name": "stdout"
        }
      ]
    },
    {
      "cell_type": "code",
      "metadata": {
        "id": "_1XcF7ZDuXWR",
        "colab_type": "code",
        "colab": {}
      },
      "source": [
        "print('What am I typing are you able to see?')"
      ],
      "execution_count": 0,
      "outputs": []
    }
  ]
}