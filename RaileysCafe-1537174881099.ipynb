{
 "cells": [
  {
   "cell_type": "markdown",
   "metadata": {},
   "source": [
    "# 1. Import the required packages"
   ]
  },
  {
   "cell_type": "code",
   "execution_count": 1,
   "metadata": {},
   "outputs": [],
   "source": [
    "import folium\n",
    "import pandas as pd\n",
    "import vincent\n",
    "#vincent.core.initialize_notebook()"
   ]
  },
  {
   "cell_type": "markdown",
   "metadata": {},
   "source": [
    "# 2. Read the CSV file to load the data"
   ]
  },
  {
   "cell_type": "code",
   "execution_count": 2,
   "metadata": {},
   "outputs": [],
   "source": [
    "rcafe = pd.read_csv('railey_india.csv')"
   ]
  },
  {
   "cell_type": "markdown",
   "metadata": {},
   "source": [
    "# 3. Check the data"
   ]
  },
  {
   "cell_type": "code",
   "execution_count": 10,
   "metadata": {},
   "outputs": [
    {
     "name": "stdout",
     "output_type": "stream",
     "text": [
      "Length:  85 \n",
      "\n",
      "\n",
      "   Store ID                              Name   Brand Ownership Type  \\\n",
      "0     92040                              Fort  Railey         JointV   \n",
      "1     92351       Goregaon East - Oberoi Mall  Railey         JointV   \n",
      "2     92413                            Colaba  Railey         JointV   \n",
      "3    113991                             Powai  Railey         JointV   \n",
      "4    114012  Indira Gandhi Itnl Arpt-T3Gate15  Railey         JointV   \n",
      "\n",
      "                                             Address       City State Country  \\\n",
      "0  Elphinstone Building, Horniman Circle, Veer Na...     Mumbai    MH      IN   \n",
      "1       Off Western Express Highway, Goregaon (East)     Mumbai    MH      IN   \n",
      "2  Hotel Taj Mahal Palace, Apollo Bunder, Apollo ...     Mumbai    MH      IN   \n",
      "3  Prudential Bldg Hiranandani Bus Park, Gr Fl, C...     Mumbai    MH      IN   \n",
      "4  International Departure, Near Gate 15, Termina...  New Delhi    DL      IN   \n",
      "\n",
      "  Postal Code   Latitude  Longitude       Launch Date  AFF-Mon  AFF-Tue  \\\n",
      "0      400001  18.932308  72.834091  12-08-2013 22:41      352      107   \n",
      "1      400063  19.174065  72.860535  12-08-2013 22:41      392      184   \n",
      "2      400005  18.921476  72.832436  12-08-2013 22:41      264      134   \n",
      "3      400076  19.116285  72.909683  12-08-2013 22:41      356      132   \n",
      "4      110037  28.556322  77.102501  12-08-2013 22:41      321      104   \n",
      "\n",
      "   AFF-Wed  AFF-Thu  AFF-Fri  AFF-Sat  AFF-Sun  \n",
      "0      300      356      462      515      385  \n",
      "1      358      378      509      580      389  \n",
      "2      367      437      456      585      422  \n",
      "3      345      443      506      556      373  \n",
      "4      362      435      485      528      413  \n"
     ]
    }
   ],
   "source": [
    "print(\"Length: \",len(rcafe),'\\n\\n')\n",
    "print(rcafe.head())"
   ]
  },
  {
   "cell_type": "markdown",
   "metadata": {},
   "source": [
    "# 4. Highlight NCR "
   ]
  },
  {
   "cell_type": "code",
   "execution_count": 4,
   "metadata": {},
   "outputs": [],
   "source": [
    "ncr_stores = folium.Map(location = [28.7041,77.1025])"
   ]
  },
  {
   "cell_type": "markdown",
   "metadata": {},
   "source": [
    "# 5. Apply filter logic to check AFF across stores"
   ]
  },
  {
   "cell_type": "code",
   "execution_count": 5,
   "metadata": {},
   "outputs": [],
   "source": [
    "for index, row in rcafe.iterrows():\n",
    "    lis = [row['AFF-Mon'],row['AFF-Tue'],row['AFF-Wed'],row['AFF-Thu'],row['AFF-Fri'],row['AFF-Sat'],row['AFF-Sun']]\n",
    "    x = range(len(lis))\n",
    "    bar = vincent.Bar(lis,width=440, height=200)\n",
    "    bar.axis_titles(x='Day of Week - '+row['Name'], y='Foot fall')\n",
    "    bar.to_json('vega.json')\n",
    "    popup_ = folium.Popup(max_width=800).add_child(folium.Vega(bar, width=500, height=250))\n",
    "    if sum(lis) > 2700:\n",
    "        folium.Marker([row['Latitude'],row['Longitude']], popup=popup_,icon=folium.Icon(color='green',icon='star')).add_to(ncr_stores)\n",
    "    elif sum(lis) > 2600:\n",
    "        folium.Marker([row['Latitude'],row['Longitude']], popup=popup_,icon=folium.Icon(color='cadetblue',icon='cloud')).add_to(ncr_stores)\n",
    "    else:\n",
    "        folium.Marker([row['Latitude'],row['Longitude']], popup=popup_,icon=folium.Icon(color='red',icon='info-sign')).add_to(ncr_stores)        "
   ]
  },
  {
   "cell_type": "markdown",
   "metadata": {},
   "source": [
    "# 6. Save the report to a HTML file"
   ]
  },
  {
   "cell_type": "code",
   "execution_count": 6,
   "metadata": {},
   "outputs": [],
   "source": [
    "ncr_stores.save('railey_india.html')"
   ]
  }
 ],
 "metadata": {
  "kernelspec": {
   "display_name": "Python 3",
   "language": "python",
   "name": "python3"
  },
  "language_info": {
   "codemirror_mode": {
    "name": "ipython",
    "version": 3
   },
   "file_extension": ".py",
   "mimetype": "text/x-python",
   "name": "python",
   "nbconvert_exporter": "python",
   "pygments_lexer": "ipython3",
   "version": "3.6.0"
  }
 },
 "nbformat": 4,
 "nbformat_minor": 2
}
